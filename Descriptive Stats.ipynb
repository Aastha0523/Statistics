{
 "cells": [
  {
   "cell_type": "code",
   "execution_count": 1,
   "id": "e8fae2a2",
   "metadata": {},
   "outputs": [],
   "source": [
    "import pandas as pd\n",
    "import numpy as np"
   ]
  },
  {
   "cell_type": "code",
   "execution_count": 3,
   "id": "f364e46d",
   "metadata": {},
   "outputs": [],
   "source": [
    "#dataset\n",
    "data = {\n",
    "    'customer_id': range(1, 11),\n",
    "    'purchase_amount': [200, 220, 250, 270, 1000, 260, 240, 230, 210, 5000]\n",
    "}"
   ]
  },
  {
   "cell_type": "code",
   "execution_count": 4,
   "id": "1497bf8a",
   "metadata": {},
   "outputs": [
    {
     "data": {
      "text/plain": [
       "{'customer_id': range(1, 11),\n",
       " 'purchase_amount': [200, 220, 250, 270, 1000, 260, 240, 230, 210, 5000]}"
      ]
     },
     "execution_count": 4,
     "metadata": {},
     "output_type": "execute_result"
    }
   ],
   "source": [
    "data"
   ]
  },
  {
   "cell_type": "code",
   "execution_count": 5,
   "id": "a901d0e2",
   "metadata": {},
   "outputs": [],
   "source": [
    "df = pd.DataFrame(data)"
   ]
  },
  {
   "cell_type": "code",
   "execution_count": 6,
   "id": "90871ad9",
   "metadata": {},
   "outputs": [],
   "source": [
    "# Central Tendency\n",
    "mean_value = df['purchase_amount'].mean()\n",
    "median_value = df['purchase_amount'].median()\n",
    "mode_value = df['purchase_amount'].mode()[0]"
   ]
  },
  {
   "cell_type": "code",
   "execution_count": 7,
   "id": "92eebf0e",
   "metadata": {},
   "outputs": [],
   "source": [
    "# Spread\n",
    "variance_value = df['purchase_amount'].var()\n",
    "std_value = df['purchase_amount'].std()\n",
    "iqr_value = df['purchase_amount'].quantile(0.75) - df['purchase_amount'].quantile(0.25)"
   ]
  },
  {
   "cell_type": "code",
   "execution_count": 8,
   "id": "5b9d8cd9",
   "metadata": {},
   "outputs": [],
   "source": [
    "# Shape\n",
    "skewness_value = df['purchase_amount'].skew()\n",
    "kurtosis_value = df['purchase_amount'].kurt()"
   ]
  },
  {
   "cell_type": "code",
   "execution_count": 9,
   "id": "83c3365a",
   "metadata": {},
   "outputs": [
    {
     "name": "stdout",
     "output_type": "stream",
     "text": [
      "788.0 245.0 200 2248506.6666666665 1499.5021396005632 45.0 3.022536069899547 9.280546126737384\n"
     ]
    }
   ],
   "source": [
    "print(mean_value, median_value, mode_value, variance_value, std_value, iqr_value, skewness_value, kurtosis_value)"
   ]
  },
  {
   "cell_type": "code",
   "execution_count": 11,
   "id": "e20e0c72",
   "metadata": {},
   "outputs": [
    {
     "data": {
      "text/plain": [
       "np.float64(82.0)"
      ]
     },
     "execution_count": 11,
     "metadata": {},
     "output_type": "execute_result"
    }
   ],
   "source": [
    "#weightd mean\n",
    "\n",
    "values = np.array([80, 90, 70])  # scores\n",
    "weights = np.array([0.2, 0.5, 0.3])  # weightages\n",
    "\n",
    "weighted_mean = np.average(values, weights=weights)\n",
    "weighted_mean\n"
   ]
  },
  {
   "cell_type": "code",
   "execution_count": 12,
   "id": "2b544092",
   "metadata": {},
   "outputs": [
    {
     "data": {
      "text/plain": [
       "np.float64(335.0)"
      ]
     },
     "execution_count": 12,
     "metadata": {},
     "output_type": "execute_result"
    }
   ],
   "source": [
    "#trimmed mean\n",
    "\n",
    "from scipy import stats\n",
    "\n",
    "data = [200, 220, 250, 270, 1000, 260, 240, 230, 210, 5000]\n",
    "\n",
    "# 10% trimmed mean\n",
    "trimmed_mean_10 = stats.trim_mean(data, 0.1)  \n",
    "trimmed_mean_10\n"
   ]
  },
  {
   "cell_type": "code",
   "execution_count": 13,
   "id": "2e077b2e",
   "metadata": {},
   "outputs": [
    {
     "data": {
      "text/plain": [
       "np.float64(335.0)"
      ]
     },
     "execution_count": 13,
     "metadata": {},
     "output_type": "execute_result"
    }
   ],
   "source": [
    "#trimmed mean (manual)\n",
    "\n",
    "def trimmed_mean(data, trim_percent):\n",
    "    data_sorted = sorted(data)\n",
    "    n = len(data_sorted)\n",
    "    k = int(n * trim_percent)\n",
    "    trimmed_data = data_sorted[k : n - k]\n",
    "    return np.mean(trimmed_data)\n",
    "\n",
    "trimmed_mean(data, 0.1)\n"
   ]
  },
  {
   "cell_type": "code",
   "execution_count": 5,
   "id": "5319c041",
   "metadata": {},
   "outputs": [
    {
     "name": "stdout",
     "output_type": "stream",
     "text": [
      "90th Percentile (cutoff value): 83.0\n",
      "Percentile Rank of 60: 66.66666666666666\n"
     ]
    }
   ],
   "source": [
    "#percentiles\n",
    "\n",
    "import numpy as np\n",
    "import pandas as pd\n",
    "from scipy import stats\n",
    "\n",
    "data = [15, 20, 35, 40, 50, 60, 75, 80, 95]\n",
    "\n",
    "# Value at the 90th percentile\n",
    "p90 = np.percentile(data, 90)\n",
    "\n",
    "# Percentile rank of a given value (e.g., 60)\n",
    "rank_60 = stats.percentileofscore(data, 60)\n",
    "\n",
    "print(\"90th Percentile (cutoff value):\", p90)\n",
    "print(\"Percentile Rank of 60:\", rank_60)\n"
   ]
  },
  {
   "cell_type": "code",
   "execution_count": 6,
   "id": "1d26924d",
   "metadata": {},
   "outputs": [
    {
     "name": "stdout",
     "output_type": "stream",
     "text": [
      "Inclusive Q1: 3.0 Q3: 7.0\n",
      "Exclusive Q1: 2.25 Q3: 6.75\n"
     ]
    }
   ],
   "source": [
    "#quantiles\n",
    "\n",
    "data = [1, 2, 3, 4, 5, 6, 7, 8, 9]\n",
    "\n",
    "# Inclusive (default in numpy)\n",
    "q1_inc = np.percentile(data, 25, method='linear')\n",
    "q3_inc = np.percentile(data, 75, method='linear')\n",
    "\n",
    "# Exclusive (approx using scipy mquantiles with alphap/betap)\n",
    "from scipy.stats.mstats import mquantiles\n",
    "q1_exc, q3_exc = mquantiles(data, prob=[0.25, 0.75], alphap=0, betap=1)\n",
    "\n",
    "print(\"Inclusive Q1:\", q1_inc, \"Q3:\", q3_inc)\n",
    "print(\"Exclusive Q1:\", q1_exc, \"Q3:\", q3_exc)\n"
   ]
  },
  {
   "cell_type": "code",
   "execution_count": 7,
   "id": "e068a8e1",
   "metadata": {},
   "outputs": [
    {
     "name": "stdout",
     "output_type": "stream",
     "text": [
      "Deciles: [np.float64(10.9), np.float64(20.8), np.float64(30.7), np.float64(40.6), np.float64(50.5), np.float64(60.4), np.float64(70.3), np.float64(80.2), np.float64(90.10000000000001)]\n"
     ]
    }
   ],
   "source": [
    "#deciles\n",
    "\n",
    "data = np.arange(1, 101)  # numbers 1 to 100\n",
    "\n",
    "# Compute deciles\n",
    "deciles = [np.percentile(data, i*10) for i in range(1, 10)]\n",
    "print(\"Deciles:\", deciles)\n"
   ]
  },
  {
   "cell_type": "code",
   "execution_count": 8,
   "id": "4361a5e5",
   "metadata": {},
   "outputs": [
    {
     "name": "stdout",
     "output_type": "stream",
     "text": [
      "{'Min': np.int64(5), 'Q1': np.float64(7.25), 'Median': np.float64(11.0), 'Q3': np.float64(14.75), 'Max': np.int64(100)}\n"
     ]
    }
   ],
   "source": [
    "#5 number summary\n",
    "\n",
    "import numpy as np\n",
    "import pandas as pd\n",
    "\n",
    "data = [7, 8, 5, 6, 12, 15, 14, 10, 18, 100]  # has an outlier\n",
    "\n",
    "five_num_summary = {\n",
    "    \"Min\": np.min(data),\n",
    "    \"Q1\": np.percentile(data, 25),\n",
    "    \"Median\": np.median(data),\n",
    "    \"Q3\": np.percentile(data, 75),\n",
    "    \"Max\": np.max(data)\n",
    "}\n",
    "\n",
    "print(five_num_summary)\n"
   ]
  },
  {
   "cell_type": "code",
   "execution_count": 10,
   "id": "e3711ef4",
   "metadata": {},
   "outputs": [
    {
     "name": "stdout",
     "output_type": "stream",
     "text": [
      "Collecting matplotlib\n",
      "  Downloading matplotlib-3.10.5-cp311-cp311-win_amd64.whl.metadata (11 kB)\n",
      "Collecting seaborn\n",
      "  Using cached seaborn-0.13.2-py3-none-any.whl.metadata (5.4 kB)\n",
      "Collecting contourpy>=1.0.1 (from matplotlib)\n",
      "  Downloading contourpy-1.3.3-cp311-cp311-win_amd64.whl.metadata (5.5 kB)\n",
      "Collecting cycler>=0.10 (from matplotlib)\n",
      "  Using cached cycler-0.12.1-py3-none-any.whl.metadata (3.8 kB)\n",
      "Collecting fonttools>=4.22.0 (from matplotlib)\n",
      "  Downloading fonttools-4.59.1-cp311-cp311-win_amd64.whl.metadata (111 kB)\n",
      "Collecting kiwisolver>=1.3.1 (from matplotlib)\n",
      "  Downloading kiwisolver-1.4.9-cp311-cp311-win_amd64.whl.metadata (6.4 kB)\n",
      "Requirement already satisfied: numpy>=1.23 in c:\\users\\aasth\\anaconda3\\envs\\projenv\\lib\\site-packages (from matplotlib) (2.0.1)\n",
      "Requirement already satisfied: packaging>=20.0 in c:\\users\\aasth\\anaconda3\\envs\\projenv\\lib\\site-packages (from matplotlib) (25.0)\n",
      "Collecting pillow>=8 (from matplotlib)\n",
      "  Downloading pillow-11.3.0-cp311-cp311-win_amd64.whl.metadata (9.2 kB)\n",
      "Collecting pyparsing>=2.3.1 (from matplotlib)\n",
      "  Downloading pyparsing-3.2.3-py3-none-any.whl.metadata (5.0 kB)\n",
      "Requirement already satisfied: python-dateutil>=2.7 in c:\\users\\aasth\\anaconda3\\envs\\projenv\\lib\\site-packages (from matplotlib) (2.9.0.post0)\n",
      "Requirement already satisfied: pandas>=1.2 in c:\\users\\aasth\\anaconda3\\envs\\projenv\\lib\\site-packages (from seaborn) (2.3.1)\n",
      "Requirement already satisfied: pytz>=2020.1 in c:\\users\\aasth\\anaconda3\\envs\\projenv\\lib\\site-packages (from pandas>=1.2->seaborn) (2025.2)\n",
      "Requirement already satisfied: tzdata>=2022.7 in c:\\users\\aasth\\anaconda3\\envs\\projenv\\lib\\site-packages (from pandas>=1.2->seaborn) (2025.2)\n",
      "Requirement already satisfied: six>=1.5 in c:\\users\\aasth\\anaconda3\\envs\\projenv\\lib\\site-packages (from python-dateutil>=2.7->matplotlib) (1.17.0)\n",
      "Downloading matplotlib-3.10.5-cp311-cp311-win_amd64.whl (8.1 MB)\n",
      "   ---------------------------------------- 0.0/8.1 MB ? eta -:--:--\n",
      "   ---------------------------------------- 0.0/8.1 MB ? eta -:--:--\n",
      "   - -------------------------------------- 0.3/8.1 MB ? eta -:--:--\n",
      "   --- ------------------------------------ 0.8/8.1 MB 1.6 MB/s eta 0:00:05\n",
      "   ------- -------------------------------- 1.6/8.1 MB 2.3 MB/s eta 0:00:03\n",
      "   ---------- ----------------------------- 2.1/8.1 MB 2.4 MB/s eta 0:00:03\n",
      "   -------------- ------------------------- 2.9/8.1 MB 2.6 MB/s eta 0:00:02\n",
      "   ---------------- ----------------------- 3.4/8.1 MB 2.7 MB/s eta 0:00:02\n",
      "   ---------------------- ----------------- 4.5/8.1 MB 2.9 MB/s eta 0:00:02\n",
      "   ----------------------- ---------------- 4.7/8.1 MB 2.7 MB/s eta 0:00:02\n",
      "   ------------------------- -------------- 5.2/8.1 MB 2.8 MB/s eta 0:00:02\n",
      "   ----------------------------- ---------- 6.0/8.1 MB 2.8 MB/s eta 0:00:01\n",
      "   --------------------------------- ------ 6.8/8.1 MB 2.9 MB/s eta 0:00:01\n",
      "   ------------------------------------- -- 7.6/8.1 MB 3.0 MB/s eta 0:00:01\n",
      "   ---------------------------------------- 8.1/8.1 MB 3.0 MB/s eta 0:00:00\n",
      "Using cached seaborn-0.13.2-py3-none-any.whl (294 kB)\n",
      "Downloading contourpy-1.3.3-cp311-cp311-win_amd64.whl (225 kB)\n",
      "Using cached cycler-0.12.1-py3-none-any.whl (8.3 kB)\n",
      "Downloading fonttools-4.59.1-cp311-cp311-win_amd64.whl (2.3 MB)\n",
      "   ---------------------------------------- 0.0/2.3 MB ? eta -:--:--\n",
      "   --------- ------------------------------ 0.5/2.3 MB 3.4 MB/s eta 0:00:01\n",
      "   ----------------------- ---------------- 1.3/2.3 MB 3.5 MB/s eta 0:00:01\n",
      "   ------------------------------------- -- 2.1/2.3 MB 3.6 MB/s eta 0:00:01\n",
      "   ---------------------------------------- 2.3/2.3 MB 3.5 MB/s eta 0:00:00\n",
      "Downloading kiwisolver-1.4.9-cp311-cp311-win_amd64.whl (73 kB)\n",
      "Downloading pillow-11.3.0-cp311-cp311-win_amd64.whl (7.0 MB)\n",
      "   ---------------------------------------- 0.0/7.0 MB ? eta -:--:--\n",
      "   --- ------------------------------------ 0.5/7.0 MB 3.4 MB/s eta 0:00:02\n",
      "   ---- ----------------------------------- 0.8/7.0 MB 3.4 MB/s eta 0:00:02\n",
      "   --------- ------------------------------ 1.6/7.0 MB 2.6 MB/s eta 0:00:03\n",
      "   ------------- -------------------------- 2.4/7.0 MB 2.9 MB/s eta 0:00:02\n",
      "   ---------------- ----------------------- 2.9/7.0 MB 2.9 MB/s eta 0:00:02\n",
      "   --------------------- ------------------ 3.7/7.0 MB 3.1 MB/s eta 0:00:02\n",
      "   ------------------------- -------------- 4.5/7.0 MB 3.2 MB/s eta 0:00:01\n",
      "   ---------------------------- ----------- 5.0/7.0 MB 3.1 MB/s eta 0:00:01\n",
      "   --------------------------------- ------ 5.8/7.0 MB 3.2 MB/s eta 0:00:01\n",
      "   ------------------------------------- -- 6.6/7.0 MB 3.1 MB/s eta 0:00:01\n",
      "   ---------------------------------------- 7.0/7.0 MB 3.1 MB/s eta 0:00:00\n",
      "Downloading pyparsing-3.2.3-py3-none-any.whl (111 kB)\n",
      "Installing collected packages: pyparsing, pillow, kiwisolver, fonttools, cycler, contourpy, matplotlib, seaborn\n",
      "\n",
      "   ----- ---------------------------------- 1/8 [pillow]\n",
      "   ----- ---------------------------------- 1/8 [pillow]\n",
      "   ----- ---------------------------------- 1/8 [pillow]\n",
      "   --------------- ------------------------ 3/8 [fonttools]\n",
      "   --------------- ------------------------ 3/8 [fonttools]\n",
      "   --------------- ------------------------ 3/8 [fonttools]\n",
      "   --------------- ------------------------ 3/8 [fonttools]\n",
      "   --------------- ------------------------ 3/8 [fonttools]\n",
      "   --------------- ------------------------ 3/8 [fonttools]\n",
      "   --------------- ------------------------ 3/8 [fonttools]\n",
      "   --------------- ------------------------ 3/8 [fonttools]\n",
      "   --------------- ------------------------ 3/8 [fonttools]\n",
      "   --------------- ------------------------ 3/8 [fonttools]\n",
      "   --------------- ------------------------ 3/8 [fonttools]\n",
      "   ------------------------------ --------- 6/8 [matplotlib]\n",
      "   ------------------------------ --------- 6/8 [matplotlib]\n",
      "   ------------------------------ --------- 6/8 [matplotlib]\n",
      "   ------------------------------ --------- 6/8 [matplotlib]\n",
      "   ------------------------------ --------- 6/8 [matplotlib]\n",
      "   ------------------------------ --------- 6/8 [matplotlib]\n",
      "   ------------------------------ --------- 6/8 [matplotlib]\n",
      "   ------------------------------ --------- 6/8 [matplotlib]\n",
      "   ------------------------------ --------- 6/8 [matplotlib]\n",
      "   ------------------------------ --------- 6/8 [matplotlib]\n",
      "   ------------------------------ --------- 6/8 [matplotlib]\n",
      "   ------------------------------ --------- 6/8 [matplotlib]\n",
      "   ------------------------------ --------- 6/8 [matplotlib]\n",
      "   ------------------------------ --------- 6/8 [matplotlib]\n",
      "   ------------------------------ --------- 6/8 [matplotlib]\n",
      "   ------------------------------ --------- 6/8 [matplotlib]\n",
      "   ----------------------------------- ---- 7/8 [seaborn]\n",
      "   ----------------------------------- ---- 7/8 [seaborn]\n",
      "   ---------------------------------------- 8/8 [seaborn]\n",
      "\n",
      "Successfully installed contourpy-1.3.3 cycler-0.12.1 fonttools-4.59.1 kiwisolver-1.4.9 matplotlib-3.10.5 pillow-11.3.0 pyparsing-3.2.3 seaborn-0.13.2\n"
     ]
    }
   ],
   "source": [
    "!pip install matplotlib seaborn\n"
   ]
  },
  {
   "cell_type": "code",
   "execution_count": 11,
   "id": "350342b2",
   "metadata": {},
   "outputs": [
    {
     "data": {
      "image/png": "[encoded data removed]",
      "text/plain": [
       "<Figure size 640x480 with 1 Axes>"
      ]
     },
     "metadata": {},
     "output_type": "display_data"
    }
   ],
   "source": [
    "#boxplot\n",
    "\n",
    "import matplotlib.pyplot as plt\n",
    "import seaborn as sns\n",
    "\n",
    "data = [7, 8, 5, 6, 12, 15, 14, 10, 18, 100]\n",
    "\n",
    "sns.boxplot(data=data)\n",
    "plt.title(\"Boxplot with Outlier\")\n",
    "plt.show()\n"
   ]
  },
  {
   "cell_type": "code",
   "execution_count": 12,
   "id": "b1f3bf9d",
   "metadata": {},
   "outputs": [
    {
     "name": "stdout",
     "output_type": "stream",
     "text": [
      "   Frequency  Relative Frequency  Cumulative Frequency\n",
      "1          1                0.07                     1\n",
      "2          3                0.20                     4\n",
      "3          2                0.13                     6\n",
      "4          4                0.27                    10\n",
      "5          5                0.33                    15\n"
     ]
    }
   ],
   "source": [
    "#frequency table\n",
    "\n",
    "import pandas as pd\n",
    "\n",
    "data = [1, 2, 2, 2, 3, 3, 4, 4, 4, 4, 5, 5, 5, 5, 5]\n",
    "\n",
    "# Frequency table\n",
    "freq_table = pd.Series(data).value_counts().sort_index()\n",
    "\n",
    "# Relative frequency\n",
    "rel_freq = freq_table / freq_table.sum()\n",
    "\n",
    "# Cumulative frequency\n",
    "cum_freq = freq_table.cumsum()\n",
    "\n",
    "result = pd.DataFrame({\n",
    "    \"Frequency\": freq_table,\n",
    "    \"Relative Frequency\": rel_freq.round(2),\n",
    "    \"Cumulative Frequency\": cum_freq\n",
    "})\n",
    "\n",
    "print(result)\n",
    "\n"
   ]
  },
  {
   "cell_type": "code",
   "execution_count": 14,
   "id": "a2f7c1b2",
   "metadata": {},
   "outputs": [
    {
     "data": {
      "image/png": "[encoded data removed]",
      "text/plain": [
       "<Figure size 640x480 with 1 Axes>"
      ]
     },
     "metadata": {},
     "output_type": "display_data"
    }
   ],
   "source": [
    "#histograms\n",
    "\n",
    "import matplotlib.pyplot as plt\n",
    "\n",
    "data = [1,2,2,2,3,3,4,4,4,4,5,5,5,5,5]\n",
    "\n",
    "plt.hist(data, bins=5, edgecolor=\"black\")\n",
    "plt.title(\"Histogram\")\n",
    "plt.xlabel(\"Value\")\n",
    "plt.ylabel(\"Frequency\")\n",
    "plt.show()\n"
   ]
  },
  {
   "cell_type": "code",
   "execution_count": 15,
   "id": "c8db01ef",
   "metadata": {},
   "outputs": [
    {
     "data": {
      "image/png": "[encoded data removed]",
      "text/plain": [
       "<Figure size 640x480 with 1 Axes>"
      ]
     },
     "metadata": {},
     "output_type": "display_data"
    }
   ],
   "source": [
    "#bar chart\n",
    "\n",
    "categories = [\"A\",\"B\",\"C\",\"A\",\"A\",\"B\",\"C\",\"C\",\"C\"]\n",
    "pd.Series(categories).value_counts().plot(kind=\"bar\", color=\"skyblue\", edgecolor=\"black\")\n",
    "plt.title(\"Bar Chart\")\n",
    "plt.show()\n"
   ]
  },
  {
   "cell_type": "code",
   "execution_count": 16,
   "id": "d7464fc0",
   "metadata": {},
   "outputs": [
    {
     "data": {
      "image/png": "[encoded data removed]",
      "text/plain": [
       "<Figure size 640x480 with 1 Axes>"
      ]
     },
     "metadata": {},
     "output_type": "display_data"
    }
   ],
   "source": [
    "#pie chart\n",
    "\n",
    "pd.Series(categories).value_counts().plot(kind=\"pie\", autopct=\"%1.1f%%\")\n",
    "plt.title(\"Pie Chart\")\n",
    "plt.ylabel(\"\")\n",
    "plt.show()\n",
    "\n"
   ]
  },
  {
   "cell_type": "code",
   "execution_count": null,
   "id": "76b3efa5",
   "metadata": {},
   "outputs": [],
   "source": []
  }
 ],
 "metadata": {
  "kernelspec": {
   "display_name": "projenv",
   "language": "python",
   "name": "python3"
  },
  "language_info": {
   "codemirror_mode": {
    "name": "ipython",
    "version": 3
   },
   "file_extension": ".py",
   "mimetype": "text/x-python",
   "name": "python",
   "nbconvert_exporter": "python",
   "pygments_lexer": "ipython3",
   "version": "3.11.13"
  }
 },
 "nbformat": 4,
 "nbformat_minor": 5
}
