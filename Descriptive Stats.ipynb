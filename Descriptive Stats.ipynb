{
 "cells": [
  {
   "cell_type": "code",
   "execution_count": 1,
   "id": "e8fae2a2",
   "metadata": {},
   "outputs": [],
   "source": [
    "import pandas as pd\n",
    "import numpy as np"
   ]
  },
  {
   "cell_type": "code",
   "execution_count": 3,
   "id": "f364e46d",
   "metadata": {},
   "outputs": [],
   "source": [
    "#dataset\n",
    "data = {\n",
    "    'customer_id': range(1, 11),\n",
    "    'purchase_amount': [200, 220, 250, 270, 1000, 260, 240, 230, 210, 5000]\n",
    "}"
   ]
  },
  {
   "cell_type": "code",
   "execution_count": 4,
   "id": "1497bf8a",
   "metadata": {},
   "outputs": [
    {
     "data": {
      "text/plain": [
       "{'customer_id': range(1, 11),\n",
       " 'purchase_amount': [200, 220, 250, 270, 1000, 260, 240, 230, 210, 5000]}"
      ]
     },
     "execution_count": 4,
     "metadata": {},
     "output_type": "execute_result"
    }
   ],
   "source": [
    "data"
   ]
  },
  {
   "cell_type": "code",
   "execution_count": 5,
   "id": "a901d0e2",
   "metadata": {},
   "outputs": [],
   "source": [
    "df = pd.DataFrame(data)"
   ]
  },
  {
   "cell_type": "code",
   "execution_count": 6,
   "id": "90871ad9",
   "metadata": {},
   "outputs": [],
   "source": [
    "# Central Tendency\n",
    "mean_value = df['purchase_amount'].mean()\n",
    "median_value = df['purchase_amount'].median()\n",
    "mode_value = df['purchase_amount'].mode()[0]"
   ]
  },
  {
   "cell_type": "code",
   "execution_count": 7,
   "id": "92eebf0e",
   "metadata": {},
   "outputs": [],
   "source": [
    "# Spread\n",
    "variance_value = df['purchase_amount'].var()\n",
    "std_value = df['purchase_amount'].std()\n",
    "iqr_value = df['purchase_amount'].quantile(0.75) - df['purchase_amount'].quantile(0.25)"
   ]
  },
  {
   "cell_type": "code",
   "execution_count": 8,
   "id": "5b9d8cd9",
   "metadata": {},
   "outputs": [],
   "source": [
    "# Shape\n",
    "skewness_value = df['purchase_amount'].skew()\n",
    "kurtosis_value = df['purchase_amount'].kurt()"
   ]
  },
  {
   "cell_type": "code",
   "execution_count": 9,
   "id": "83c3365a",
   "metadata": {},
   "outputs": [
    {
     "name": "stdout",
     "output_type": "stream",
     "text": [
      "788.0 245.0 200 2248506.6666666665 1499.5021396005632 45.0 3.022536069899547 9.280546126737384\n"
     ]
    }
   ],
   "source": [
    "print(mean_value, median_value, mode_value, variance_value, std_value, iqr_value, skewness_value, kurtosis_value)"
   ]
  },
  {
   "cell_type": "code",
   "execution_count": 11,
   "id": "e20e0c72",
   "metadata": {},
   "outputs": [
    {
     "data": {
      "text/plain": [
       "np.float64(82.0)"
      ]
     },
     "execution_count": 11,
     "metadata": {},
     "output_type": "execute_result"
    }
   ],
   "source": [
    "#weightd mean\n",
    "\n",
    "values = np.array([80, 90, 70])  # scores\n",
    "weights = np.array([0.2, 0.5, 0.3])  # weightages\n",
    "\n",
    "weighted_mean = np.average(values, weights=weights)\n",
    "weighted_mean\n"
   ]
  },
  {
   "cell_type": "code",
   "execution_count": 12,
   "id": "2b544092",
   "metadata": {},
   "outputs": [
    {
     "data": {
      "text/plain": [
       "np.float64(335.0)"
      ]
     },
     "execution_count": 12,
     "metadata": {},
     "output_type": "execute_result"
    }
   ],
   "source": [
    "#trimmed mean\n",
    "\n",
    "from scipy import stats\n",
    "\n",
    "data = [200, 220, 250, 270, 1000, 260, 240, 230, 210, 5000]\n",
    "\n",
    "# 10% trimmed mean\n",
    "trimmed_mean_10 = stats.trim_mean(data, 0.1)  \n",
    "trimmed_mean_10\n"
   ]
  },
  {
   "cell_type": "code",
   "execution_count": 13,
   "id": "2e077b2e",
   "metadata": {},
   "outputs": [
    {
     "data": {
      "text/plain": [
       "np.float64(335.0)"
      ]
     },
     "execution_count": 13,
     "metadata": {},
     "output_type": "execute_result"
    }
   ],
   "source": [
    "#trimmed mean (manual)\n",
    "\n",
    "def trimmed_mean(data, trim_percent):\n",
    "    data_sorted = sorted(data)\n",
    "    n = len(data_sorted)\n",
    "    k = int(n * trim_percent)\n",
    "    trimmed_data = data_sorted[k : n - k]\n",
    "    return np.mean(trimmed_data)\n",
    "\n",
    "trimmed_mean(data, 0.1)\n"
   ]
  },
  {
   "cell_type": "code",
   "execution_count": null,
   "id": "5319c041",
   "metadata": {},
   "outputs": [],
   "source": []
  }
 ],
 "metadata": {
  "kernelspec": {
   "display_name": "Python 3",
   "language": "python",
   "name": "python3"
  },
  "language_info": {
   "codemirror_mode": {
    "name": "ipython",
    "version": 3
   },
   "file_extension": ".py",
   "mimetype": "text/x-python",
   "name": "python",
   "nbconvert_exporter": "python",
   "pygments_lexer": "ipython3",
   "version": "3.13.2"
  }
 },
 "nbformat": 4,
 "nbformat_minor": 5
}
